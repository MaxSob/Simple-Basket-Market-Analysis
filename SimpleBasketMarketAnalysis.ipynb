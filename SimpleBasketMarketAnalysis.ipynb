{
 "cells": [
  {
   "cell_type": "markdown",
   "metadata": {},
   "source": [
    "# Simple Market Basket Analysis\n",
    "Market Basket Analysis es una técnica que nos permite descubrir reglas de asociación para productos relacionados, en un entorno de mercado. En este tipo de entornos cada compra representa una única compra de una serie d eproductos y deseamos encontrar cual es la relación causal entre los diferentes productos."
   ]
  },
  {
   "cell_type": "markdown",
   "metadata": {},
   "source": [
    "## Ejercicio 1\n",
    "Suponga que hay 100 artículos, numerados del 1 al 100; también 100 canastas, igualmente numeradas del 1 al 100. El artículo i está en la canasta b, si y sólo si i divide b sin ningún resto. Por lo tanto, el artículo 1 está en todas las canastas, el artículo 2 está en las cincuenta canastas pares, y así sucesivamente. La cesta 12 consta de elementos {1, 2, 3, 4, 6, 12}, ya que estos son todos los enteros que dividen 12. Responda las siguientes preguntas:"
   ]
  },
  {
   "cell_type": "markdown",
   "metadata": {},
   "source": [
    "### Ejercicio 1a\n",
    "Si el umbral de soporte es 5, ¿qué elementos son frecuentes?"
   ]
  },
  {
   "cell_type": "markdown",
   "metadata": {},
   "source": [
    "Crearemos una función para generar una canasta determinada, viendo que son todos los números de los 100 artículos que dividen de manera exacta a la canasta i"
   ]
  },
  {
   "cell_type": "code",
   "execution_count": 2,
   "metadata": {},
   "outputs": [
    {
     "name": "stdout",
     "output_type": "stream",
     "text": [
      "[1, 2, 3, 4, 6, 12]\n"
     ]
    }
   ],
   "source": [
    "def generaCanasta(i):\n",
    "  productos = []\n",
    "  for producto in range(1, 101):\n",
    "    if i % producto == 0:\n",
    "      productos.append(producto)\n",
    "  return productos\n",
    "\n",
    "print(generaCanasta(12))"
   ]
  },
  {
   "cell_type": "markdown",
   "metadata": {},
   "source": [
    "Podemos generar todas las canastas utilizando un ciclo iterado simple"
   ]
  },
  {
   "cell_type": "code",
   "execution_count": 8,
   "metadata": {},
   "outputs": [
    {
     "name": "stdout",
     "output_type": "stream",
     "text": [
      "Canasta 1: [1]\n",
      "Canasta 2: [1, 2]\n",
      "Canasta 3: [1, 3]\n",
      "Canasta 4: [1, 2, 4]\n",
      "Canasta 5: [1, 5]\n",
      "Canasta 6: [1, 2, 3, 6]\n",
      "Canasta 7: [1, 7]\n",
      "Canasta 8: [1, 2, 4, 8]\n",
      "Canasta 9: [1, 3, 9]\n",
      "Canasta 10: [1, 2, 5, 10]\n",
      "Canasta 11: [1, 11]\n",
      "Canasta 12: [1, 2, 3, 4, 6, 12]\n",
      "Canasta 13: [1, 13]\n",
      "Canasta 14: [1, 2, 7, 14]\n",
      "Canasta 15: [1, 3, 5, 15]\n",
      "Canasta 16: [1, 2, 4, 8, 16]\n",
      "Canasta 17: [1, 17]\n",
      "Canasta 18: [1, 2, 3, 6, 9, 18]\n",
      "Canasta 19: [1, 19]\n",
      "Canasta 20: [1, 2, 4, 5, 10, 20]\n",
      "Canasta 21: [1, 3, 7, 21]\n",
      "Canasta 22: [1, 2, 11, 22]\n",
      "Canasta 23: [1, 23]\n",
      "Canasta 24: [1, 2, 3, 4, 6, 8, 12, 24]\n",
      "Canasta 25: [1, 5, 25]\n",
      "Canasta 26: [1, 2, 13, 26]\n",
      "Canasta 27: [1, 3, 9, 27]\n",
      "Canasta 28: [1, 2, 4, 7, 14, 28]\n",
      "Canasta 29: [1, 29]\n",
      "Canasta 30: [1, 2, 3, 5, 6, 10, 15, 30]\n",
      "Canasta 31: [1, 31]\n",
      "Canasta 32: [1, 2, 4, 8, 16, 32]\n",
      "Canasta 33: [1, 3, 11, 33]\n",
      "Canasta 34: [1, 2, 17, 34]\n",
      "Canasta 35: [1, 5, 7, 35]\n",
      "Canasta 36: [1, 2, 3, 4, 6, 9, 12, 18, 36]\n",
      "Canasta 37: [1, 37]\n",
      "Canasta 38: [1, 2, 19, 38]\n",
      "Canasta 39: [1, 3, 13, 39]\n",
      "Canasta 40: [1, 2, 4, 5, 8, 10, 20, 40]\n",
      "Canasta 41: [1, 41]\n",
      "Canasta 42: [1, 2, 3, 6, 7, 14, 21, 42]\n",
      "Canasta 43: [1, 43]\n",
      "Canasta 44: [1, 2, 4, 11, 22, 44]\n",
      "Canasta 45: [1, 3, 5, 9, 15, 45]\n",
      "Canasta 46: [1, 2, 23, 46]\n",
      "Canasta 47: [1, 47]\n",
      "Canasta 48: [1, 2, 3, 4, 6, 8, 12, 16, 24, 48]\n",
      "Canasta 49: [1, 7, 49]\n",
      "Canasta 50: [1, 2, 5, 10, 25, 50]\n",
      "Canasta 51: [1, 3, 17, 51]\n",
      "Canasta 52: [1, 2, 4, 13, 26, 52]\n",
      "Canasta 53: [1, 53]\n",
      "Canasta 54: [1, 2, 3, 6, 9, 18, 27, 54]\n",
      "Canasta 55: [1, 5, 11, 55]\n",
      "Canasta 56: [1, 2, 4, 7, 8, 14, 28, 56]\n",
      "Canasta 57: [1, 3, 19, 57]\n",
      "Canasta 58: [1, 2, 29, 58]\n",
      "Canasta 59: [1, 59]\n",
      "Canasta 60: [1, 2, 3, 4, 5, 6, 10, 12, 15, 20, 30, 60]\n",
      "Canasta 61: [1, 61]\n",
      "Canasta 62: [1, 2, 31, 62]\n",
      "Canasta 63: [1, 3, 7, 9, 21, 63]\n",
      "Canasta 64: [1, 2, 4, 8, 16, 32, 64]\n",
      "Canasta 65: [1, 5, 13, 65]\n",
      "Canasta 66: [1, 2, 3, 6, 11, 22, 33, 66]\n",
      "Canasta 67: [1, 67]\n",
      "Canasta 68: [1, 2, 4, 17, 34, 68]\n",
      "Canasta 69: [1, 3, 23, 69]\n",
      "Canasta 70: [1, 2, 5, 7, 10, 14, 35, 70]\n",
      "Canasta 71: [1, 71]\n",
      "Canasta 72: [1, 2, 3, 4, 6, 8, 9, 12, 18, 24, 36, 72]\n",
      "Canasta 73: [1, 73]\n",
      "Canasta 74: [1, 2, 37, 74]\n",
      "Canasta 75: [1, 3, 5, 15, 25, 75]\n",
      "Canasta 76: [1, 2, 4, 19, 38, 76]\n",
      "Canasta 77: [1, 7, 11, 77]\n",
      "Canasta 78: [1, 2, 3, 6, 13, 26, 39, 78]\n",
      "Canasta 79: [1, 79]\n",
      "Canasta 80: [1, 2, 4, 5, 8, 10, 16, 20, 40, 80]\n",
      "Canasta 81: [1, 3, 9, 27, 81]\n",
      "Canasta 82: [1, 2, 41, 82]\n",
      "Canasta 83: [1, 83]\n",
      "Canasta 84: [1, 2, 3, 4, 6, 7, 12, 14, 21, 28, 42, 84]\n",
      "Canasta 85: [1, 5, 17, 85]\n",
      "Canasta 86: [1, 2, 43, 86]\n",
      "Canasta 87: [1, 3, 29, 87]\n",
      "Canasta 88: [1, 2, 4, 8, 11, 22, 44, 88]\n",
      "Canasta 89: [1, 89]\n",
      "Canasta 90: [1, 2, 3, 5, 6, 9, 10, 15, 18, 30, 45, 90]\n",
      "Canasta 91: [1, 7, 13, 91]\n",
      "Canasta 92: [1, 2, 4, 23, 46, 92]\n",
      "Canasta 93: [1, 3, 31, 93]\n",
      "Canasta 94: [1, 2, 47, 94]\n",
      "Canasta 95: [1, 5, 19, 95]\n",
      "Canasta 96: [1, 2, 3, 4, 6, 8, 12, 16, 24, 32, 48, 96]\n",
      "Canasta 97: [1, 97]\n",
      "Canasta 98: [1, 2, 7, 14, 49, 98]\n",
      "Canasta 99: [1, 3, 9, 11, 33, 99]\n",
      "Canasta 100: [1, 2, 4, 5, 10, 20, 25, 50, 100]\n"
     ]
    }
   ],
   "source": [
    "canastas_ejercicio_1 = []\n",
    "for i in range(1, 101):\n",
    "    canastas_ejercicio_1.append(generaCanasta(i))\n",
    "\n",
    "for i, c in enumerate(canastas_ejercicio_1):\n",
    "    print(\"Canasta \" + str(i + 1) + \": \" + str(c))"
   ]
  },
  {
   "cell_type": "markdown",
   "metadata": {},
   "source": [
    "Podemos generar el soporte de los artículos contando en cuantas canastas aparece. El producto 1 aparece en las 100 canastas, el artículo 2 en las canastas pares, y así sucesivamente. En general el soporte para el artículo i es la parte entera de la división de $\\frac{100}{i}$"
   ]
  },
  {
   "cell_type": "code",
   "execution_count": 9,
   "metadata": {},
   "outputs": [
    {
     "name": "stdout",
     "output_type": "stream",
     "text": [
      "Soporte articulo 1:100\n",
      "Soporte articulo 2:50\n",
      "Soporte articulo 3:33\n",
      "Soporte articulo 4:25\n",
      "Soporte articulo 5:20\n",
      "Soporte articulo 6:16\n",
      "Soporte articulo 7:14\n",
      "Soporte articulo 8:12\n",
      "Soporte articulo 9:11\n",
      "Soporte articulo 10:10\n",
      "Soporte articulo 11:9\n",
      "Soporte articulo 12:8\n",
      "Soporte articulo 13:7\n",
      "Soporte articulo 14:7\n",
      "Soporte articulo 15:6\n",
      "Soporte articulo 16:6\n",
      "Soporte articulo 17:5\n",
      "Soporte articulo 18:5\n",
      "Soporte articulo 19:5\n",
      "Soporte articulo 20:5\n",
      "Soporte articulo 21:4\n",
      "Soporte articulo 22:4\n",
      "Soporte articulo 23:4\n",
      "Soporte articulo 24:4\n",
      "Soporte articulo 25:4\n",
      "Soporte articulo 26:3\n",
      "Soporte articulo 27:3\n",
      "Soporte articulo 28:3\n",
      "Soporte articulo 29:3\n",
      "Soporte articulo 30:3\n",
      "Soporte articulo 31:3\n",
      "Soporte articulo 32:3\n",
      "Soporte articulo 33:3\n",
      "Soporte articulo 34:2\n",
      "Soporte articulo 35:2\n",
      "Soporte articulo 36:2\n",
      "Soporte articulo 37:2\n",
      "Soporte articulo 38:2\n",
      "Soporte articulo 39:2\n",
      "Soporte articulo 40:2\n",
      "Soporte articulo 41:2\n",
      "Soporte articulo 42:2\n",
      "Soporte articulo 43:2\n",
      "Soporte articulo 44:2\n",
      "Soporte articulo 45:2\n",
      "Soporte articulo 46:2\n",
      "Soporte articulo 47:2\n",
      "Soporte articulo 48:2\n",
      "Soporte articulo 49:2\n",
      "Soporte articulo 50:2\n",
      "Soporte articulo 51:1\n",
      "Soporte articulo 52:1\n",
      "Soporte articulo 53:1\n",
      "Soporte articulo 54:1\n",
      "Soporte articulo 55:1\n",
      "Soporte articulo 56:1\n",
      "Soporte articulo 57:1\n",
      "Soporte articulo 58:1\n",
      "Soporte articulo 59:1\n",
      "Soporte articulo 60:1\n",
      "Soporte articulo 61:1\n",
      "Soporte articulo 62:1\n",
      "Soporte articulo 63:1\n",
      "Soporte articulo 64:1\n",
      "Soporte articulo 65:1\n",
      "Soporte articulo 66:1\n",
      "Soporte articulo 67:1\n",
      "Soporte articulo 68:1\n",
      "Soporte articulo 69:1\n",
      "Soporte articulo 70:1\n",
      "Soporte articulo 71:1\n",
      "Soporte articulo 72:1\n",
      "Soporte articulo 73:1\n",
      "Soporte articulo 74:1\n",
      "Soporte articulo 75:1\n",
      "Soporte articulo 76:1\n",
      "Soporte articulo 77:1\n",
      "Soporte articulo 78:1\n",
      "Soporte articulo 79:1\n",
      "Soporte articulo 80:1\n",
      "Soporte articulo 81:1\n",
      "Soporte articulo 82:1\n",
      "Soporte articulo 83:1\n",
      "Soporte articulo 84:1\n",
      "Soporte articulo 85:1\n",
      "Soporte articulo 86:1\n",
      "Soporte articulo 87:1\n",
      "Soporte articulo 88:1\n",
      "Soporte articulo 89:1\n",
      "Soporte articulo 90:1\n",
      "Soporte articulo 91:1\n",
      "Soporte articulo 92:1\n",
      "Soporte articulo 93:1\n",
      "Soporte articulo 94:1\n",
      "Soporte articulo 95:1\n",
      "Soporte articulo 96:1\n",
      "Soporte articulo 97:1\n",
      "Soporte articulo 98:1\n",
      "Soporte articulo 99:1\n",
      "Soporte articulo 100:1\n"
     ]
    }
   ],
   "source": [
    "soportes = []\n",
    "for i in range(1, 101):\n",
    "    soportes.append(100//i)\n",
    "\n",
    "for i, soporte in enumerate(soportes):\n",
    "  print(\"Soporte articulo \" + str(i + 1) + \":\" + str(soporte))"
   ]
  },
  {
   "cell_type": "markdown",
   "metadata": {},
   "source": [
    "Seleccionamos aquellos artículos con un soporte de 5 o mayor"
   ]
  },
  {
   "cell_type": "code",
   "execution_count": 12,
   "metadata": {},
   "outputs": [
    {
     "name": "stdout",
     "output_type": "stream",
     "text": [
      "[1, 2, 3, 4, 5, 6, 7, 8, 9, 10, 11, 12, 13, 14, 15, 16, 17, 18, 19, 20]\n"
     ]
    }
   ],
   "source": [
    "items_frecuentes = []\n",
    "for i, soporte in enumerate(soportes):\n",
    "    if soporte >= 5:\n",
    "        items_frecuentes.append(i+1)\n",
    "print(items_frecuentes)"
   ]
  },
  {
   "cell_type": "markdown",
   "metadata": {},
   "source": [
    "Como vemos los primeros 20 items son los que aparecen 5 veces o más en las cestas"
   ]
  },
  {
   "cell_type": "markdown",
   "metadata": {},
   "source": [
    "### Ejercicio 1b\n",
    "¿Cuál es la suma de los tamaños de todas las canastas?"
   ]
  },
  {
   "cell_type": "markdown",
   "metadata": {},
   "source": [
    "Si sumamos todos los soportes podemos obtener el tamaño de todas las canastas"
   ]
  },
  {
   "cell_type": "code",
   "execution_count": 15,
   "metadata": {},
   "outputs": [
    {
     "name": "stdout",
     "output_type": "stream",
     "text": [
      "482\n"
     ]
    }
   ],
   "source": [
    "import numpy as np\n",
    "print(np.sum(soportes))"
   ]
  },
  {
   "cell_type": "markdown",
   "metadata": {},
   "source": [
    "Como vemos hay 482 artículos"
   ]
  },
  {
   "cell_type": "markdown",
   "metadata": {},
   "source": [
    "## Ejercicio 2\n",
    "Suponga que hay 100 artículos, numerados del 1 al 100; también 100 canastas, igualmente numeradas del 1 al 100. El artículo i está en la canasta b, si y sólo si b divide i sin resto. Por ejemplo, la canasta 12 consta de artículos {12, 24, 36, 48, 60, 72, 84, 96}."
   ]
  },
  {
   "cell_type": "markdown",
   "metadata": {},
   "source": [
    "## Ejercicio 2a\n",
    "En este caso la canasta está compuesta por todos los múltiplos del número de canasta que sean menores o iguales a 100. Para generar una canasta solo tenemos que generar los múltiplos menores a 100"
   ]
  },
  {
   "cell_type": "code",
   "execution_count": 20,
   "metadata": {},
   "outputs": [
    {
     "name": "stdout",
     "output_type": "stream",
     "text": [
      "[12, 24, 36, 48, 60, 72, 84, 96]\n"
     ]
    }
   ],
   "source": [
    "def generaCanasta2(i):\n",
    "  productos = []\n",
    "  for producto in range(1, 100//i + 1):\n",
    "        productos.append(i*producto)\n",
    "  return productos\n",
    "\n",
    "print(generaCanasta2(12))"
   ]
  },
  {
   "cell_type": "markdown",
   "metadata": {},
   "source": [
    "Generemos todas las canastas para el ejercicio 2"
   ]
  },
  {
   "cell_type": "code",
   "execution_count": 22,
   "metadata": {},
   "outputs": [
    {
     "name": "stdout",
     "output_type": "stream",
     "text": [
      "Canasta 1: [1, 2, 3, 4, 5, 6, 7, 8, 9, 10, 11, 12, 13, 14, 15, 16, 17, 18, 19, 20, 21, 22, 23, 24, 25, 26, 27, 28, 29, 30, 31, 32, 33, 34, 35, 36, 37, 38, 39, 40, 41, 42, 43, 44, 45, 46, 47, 48, 49, 50, 51, 52, 53, 54, 55, 56, 57, 58, 59, 60, 61, 62, 63, 64, 65, 66, 67, 68, 69, 70, 71, 72, 73, 74, 75, 76, 77, 78, 79, 80, 81, 82, 83, 84, 85, 86, 87, 88, 89, 90, 91, 92, 93, 94, 95, 96, 97, 98, 99, 100]\n",
      "Canasta 2: [2, 4, 6, 8, 10, 12, 14, 16, 18, 20, 22, 24, 26, 28, 30, 32, 34, 36, 38, 40, 42, 44, 46, 48, 50, 52, 54, 56, 58, 60, 62, 64, 66, 68, 70, 72, 74, 76, 78, 80, 82, 84, 86, 88, 90, 92, 94, 96, 98, 100]\n",
      "Canasta 3: [3, 6, 9, 12, 15, 18, 21, 24, 27, 30, 33, 36, 39, 42, 45, 48, 51, 54, 57, 60, 63, 66, 69, 72, 75, 78, 81, 84, 87, 90, 93, 96, 99]\n",
      "Canasta 4: [4, 8, 12, 16, 20, 24, 28, 32, 36, 40, 44, 48, 52, 56, 60, 64, 68, 72, 76, 80, 84, 88, 92, 96, 100]\n",
      "Canasta 5: [5, 10, 15, 20, 25, 30, 35, 40, 45, 50, 55, 60, 65, 70, 75, 80, 85, 90, 95, 100]\n",
      "Canasta 6: [6, 12, 18, 24, 30, 36, 42, 48, 54, 60, 66, 72, 78, 84, 90, 96]\n",
      "Canasta 7: [7, 14, 21, 28, 35, 42, 49, 56, 63, 70, 77, 84, 91, 98]\n",
      "Canasta 8: [8, 16, 24, 32, 40, 48, 56, 64, 72, 80, 88, 96]\n",
      "Canasta 9: [9, 18, 27, 36, 45, 54, 63, 72, 81, 90, 99]\n",
      "Canasta 10: [10, 20, 30, 40, 50, 60, 70, 80, 90, 100]\n",
      "Canasta 11: [11, 22, 33, 44, 55, 66, 77, 88, 99]\n",
      "Canasta 12: [12, 24, 36, 48, 60, 72, 84, 96]\n",
      "Canasta 13: [13, 26, 39, 52, 65, 78, 91]\n",
      "Canasta 14: [14, 28, 42, 56, 70, 84, 98]\n",
      "Canasta 15: [15, 30, 45, 60, 75, 90]\n",
      "Canasta 16: [16, 32, 48, 64, 80, 96]\n",
      "Canasta 17: [17, 34, 51, 68, 85]\n",
      "Canasta 18: [18, 36, 54, 72, 90]\n",
      "Canasta 19: [19, 38, 57, 76, 95]\n",
      "Canasta 20: [20, 40, 60, 80, 100]\n",
      "Canasta 21: [21, 42, 63, 84]\n",
      "Canasta 22: [22, 44, 66, 88]\n",
      "Canasta 23: [23, 46, 69, 92]\n",
      "Canasta 24: [24, 48, 72, 96]\n",
      "Canasta 25: [25, 50, 75, 100]\n",
      "Canasta 26: [26, 52, 78]\n",
      "Canasta 27: [27, 54, 81]\n",
      "Canasta 28: [28, 56, 84]\n",
      "Canasta 29: [29, 58, 87]\n",
      "Canasta 30: [30, 60, 90]\n",
      "Canasta 31: [31, 62, 93]\n",
      "Canasta 32: [32, 64, 96]\n",
      "Canasta 33: [33, 66, 99]\n",
      "Canasta 34: [34, 68]\n",
      "Canasta 35: [35, 70]\n",
      "Canasta 36: [36, 72]\n",
      "Canasta 37: [37, 74]\n",
      "Canasta 38: [38, 76]\n",
      "Canasta 39: [39, 78]\n",
      "Canasta 40: [40, 80]\n",
      "Canasta 41: [41, 82]\n",
      "Canasta 42: [42, 84]\n",
      "Canasta 43: [43, 86]\n",
      "Canasta 44: [44, 88]\n",
      "Canasta 45: [45, 90]\n",
      "Canasta 46: [46, 92]\n",
      "Canasta 47: [47, 94]\n",
      "Canasta 48: [48, 96]\n",
      "Canasta 49: [49, 98]\n",
      "Canasta 50: [50, 100]\n",
      "Canasta 51: [51]\n",
      "Canasta 52: [52]\n",
      "Canasta 53: [53]\n",
      "Canasta 54: [54]\n",
      "Canasta 55: [55]\n",
      "Canasta 56: [56]\n",
      "Canasta 57: [57]\n",
      "Canasta 58: [58]\n",
      "Canasta 59: [59]\n",
      "Canasta 60: [60]\n",
      "Canasta 61: [61]\n",
      "Canasta 62: [62]\n",
      "Canasta 63: [63]\n",
      "Canasta 64: [64]\n",
      "Canasta 65: [65]\n",
      "Canasta 66: [66]\n",
      "Canasta 67: [67]\n",
      "Canasta 68: [68]\n",
      "Canasta 69: [69]\n",
      "Canasta 70: [70]\n",
      "Canasta 71: [71]\n",
      "Canasta 72: [72]\n",
      "Canasta 73: [73]\n",
      "Canasta 74: [74]\n",
      "Canasta 75: [75]\n",
      "Canasta 76: [76]\n",
      "Canasta 77: [77]\n",
      "Canasta 78: [78]\n",
      "Canasta 79: [79]\n",
      "Canasta 80: [80]\n",
      "Canasta 81: [81]\n",
      "Canasta 82: [82]\n",
      "Canasta 83: [83]\n",
      "Canasta 84: [84]\n",
      "Canasta 85: [85]\n",
      "Canasta 86: [86]\n",
      "Canasta 87: [87]\n",
      "Canasta 88: [88]\n",
      "Canasta 89: [89]\n",
      "Canasta 90: [90]\n",
      "Canasta 91: [91]\n",
      "Canasta 92: [92]\n",
      "Canasta 93: [93]\n",
      "Canasta 94: [94]\n",
      "Canasta 95: [95]\n",
      "Canasta 96: [96]\n",
      "Canasta 97: [97]\n",
      "Canasta 98: [98]\n",
      "Canasta 99: [99]\n",
      "Canasta 100: [100]\n"
     ]
    }
   ],
   "source": [
    "canastas_ejercicio_2 = []\n",
    "for i in range(1, 101):\n",
    "  canastas_ejercicio_2.append(generaCanasta2(i))\n",
    "\n",
    "for i, canasta in enumerate(canastas_ejercicio_2):\n",
    "    print(\"Canasta \" + str(i + 1) + \": \" + str(canasta))"
   ]
  },
  {
   "cell_type": "markdown",
   "metadata": {},
   "source": [
    "Podemos calcular el tamaño de las canastas sumando el tamaño de cada una de ellas:"
   ]
  },
  {
   "cell_type": "code",
   "execution_count": 23,
   "metadata": {},
   "outputs": [
    {
     "data": {
      "text/plain": [
       "482"
      ]
     },
     "execution_count": 23,
     "metadata": {},
     "output_type": "execute_result"
    }
   ],
   "source": [
    "np.sum([len(canasta) for canasta in canastas_ejercicio_2])"
   ]
  },
  {
   "cell_type": "markdown",
   "metadata": {},
   "source": [
    "Como vemos también suman 482 artículos en total"
   ]
  },
  {
   "cell_type": "markdown",
   "metadata": {},
   "source": [
    "### Verificar si varios productos están en una canasta\n",
    "Escribamos el código para verificar en que canastas están juntos los productos que pasemos"
   ]
  },
  {
   "cell_type": "code",
   "execution_count": 30,
   "metadata": {},
   "outputs": [
    {
     "name": "stdout",
     "output_type": "stream",
     "text": [
      "Canastas en donde aparece el 24\n",
      "[1, 2, 3, 4, 6, 8, 12, 24]\n",
      "Canastas en donde aparece el 60\n",
      "[1, 2, 3, 4, 5, 6, 10, 12, 15, 20, 30, 60]\n",
      "Canastas en donde aparecen tanto el 24 como el 60\n",
      "[1, 2, 3, 4, 6, 12]\n"
     ]
    }
   ],
   "source": [
    "def inCanasta(numeros, canastas):\n",
    "  canastas_aparece = []\n",
    "  for c, canasta in enumerate(canastas):\n",
    "    append = True\n",
    "    for n in numeros:\n",
    "        if n not in canasta:\n",
    "            append = False\n",
    "            break\n",
    "    if append:\n",
    "        canastas_aparece.append(c + 1)\n",
    "  return canastas_aparece\n",
    "\n",
    "print(\"Canastas en donde aparece el 24\")\n",
    "print(inCanasta([24], canastas_ejercicio_2))\n",
    "\n",
    "print(\"Canastas en donde aparece el 60\")\n",
    "print(inCanasta([60], canastas_ejercicio_2))\n",
    "\n",
    "print(\"Canastas en donde aparecen tanto el 24 como el 60\")\n",
    "print(inCanasta([24, 60], canastas_ejercicio_2))"
   ]
  },
  {
   "cell_type": "markdown",
   "metadata": {},
   "source": [
    "## Ejercicio 3\n",
    "Para los datos del Ejercicio 1, ¿cuál es la confianza de la siguiente regla de asociación?\n",
    "$\\{5,7\\} \\rightarrow 2$\n",
    "\n",
    "Para resolver este ejercicio debemos tener en cuenta que la fórmula para calcular la confianza es:\n",
    "\n",
    "$$ confianza(A \\rightarrow B) = \\frac{soporte(A \\rightarrow B)}{soporte(B}$$\n",
    "\n",
    "Recordemos que el soporte de $A \\rightarrow B$ es el número de veces que A y B aparecen juntos, en este caso para calcular el soporte de $\\{5,7\\}$ tenemos que contar las canastas en donde el producto 5 y el producto 7 aparecen juntos. Así mismo para calcular el soporte de $\\{5,7\\} \\rightarrow 2$, debemos contar el número de veces que 5, 7 y 2 aparecen juntos:\n"
   ]
  },
  {
   "cell_type": "code",
   "execution_count": 31,
   "metadata": {},
   "outputs": [
    {
     "name": "stdout",
     "output_type": "stream",
     "text": [
      "Canastas en donde aparecen el 5 y el 7\n",
      "[35, 70]\n",
      "Canastas en donde aparece el 5 el 7 y el 2\n",
      "[70]\n"
     ]
    }
   ],
   "source": [
    "print(\"Canastas en donde aparecen el 5 y el 7\")\n",
    "print(inCanasta([5,7], canastas_ejercicio_1))\n",
    "\n",
    "print(\"Canastas en donde aparece el 5 el 7 y el 2\")\n",
    "print(inCanasta([5,7,2], canastas_ejercicio_1))"
   ]
  },
  {
   "cell_type": "markdown",
   "metadata": {},
   "source": [
    "Calculamos el soporte"
   ]
  },
  {
   "cell_type": "code",
   "execution_count": 35,
   "metadata": {},
   "outputs": [
    {
     "name": "stdout",
     "output_type": "stream",
     "text": [
      "Soporte de 5 y 7: 2\n",
      "Soporte de 5, 7 --> 2: 1\n"
     ]
    }
   ],
   "source": [
    "soporte = lambda numeros, canastas: len(inCanasta(numeros, canastas))\n",
    "support_5_7 = soporte([5,7], canastas_ejercicio_1)\n",
    "support_5_7_2 = soporte([5,7,2], canastas_ejercicio_1)\n",
    "print(\"Soporte de 5 y 7: \" + str(support_5_7))\n",
    "print(\"Soporte de 5, 7 --> 2: \" + str(support_5_7_2))"
   ]
  },
  {
   "cell_type": "markdown",
   "metadata": {},
   "source": [
    "Calculamos la confianza"
   ]
  },
  {
   "cell_type": "code",
   "execution_count": 37,
   "metadata": {},
   "outputs": [
    {
     "data": {
      "text/plain": [
       "0.5"
      ]
     },
     "execution_count": 37,
     "metadata": {},
     "output_type": "execute_result"
    }
   ],
   "source": [
    "support_5_7_2/support_5_7"
   ]
  },
  {
   "cell_type": "markdown",
   "metadata": {},
   "source": [
    "## Ejercicio 4\n",
    "Para los datos del Ejercicio 2, ¿cuál es la confianza de las siguientes reglas de asociación?\n",
    "\n",
    "### Ejercicio 4a\n",
    "$\\{24,60\\} \\rightarrow 8$"
   ]
  },
  {
   "cell_type": "markdown",
   "metadata": {},
   "source": [
    "Siguiendo un proceso análogo al presentado arriba podemos ver las canastas y calcular los soportes de la sigueinte manera"
   ]
  },
  {
   "cell_type": "code",
   "execution_count": 38,
   "metadata": {},
   "outputs": [
    {
     "name": "stdout",
     "output_type": "stream",
     "text": [
      "Canastas en donde aparecen el 24 y el 60\n",
      "[1, 2, 3, 4, 6, 12]\n",
      "Canastas en donde aparece el 24 el 60 y el 8\n",
      "[1, 2, 4]\n",
      "Soporte de {24, 60}\n",
      "6\n",
      "Soporte de {24, 60} --> 8\n",
      "3\n",
      "Confianza {24, 60} --> 8\n",
      "0.5\n"
     ]
    }
   ],
   "source": [
    "print(\"Canastas en donde aparecen el 24 y el 60\")\n",
    "print(inCanasta([24,60], canastas_ejercicio_2))\n",
    "\n",
    "print(\"Canastas en donde aparece el 24 el 60 y el 8\")\n",
    "print(inCanasta([24,60,8], canastas_ejercicio_2))\n",
    "\n",
    "support_24_60 = soporte([24,60], canastas_ejercicio_2)\n",
    "support_24_60_8 = soporte([24,60,8], canastas_ejercicio_2)\n",
    "print(\"Soporte de {24, 60}\")\n",
    "print(support_24_60)\n",
    "\n",
    "print(\"Soporte de {24, 60} --> 8\")\n",
    "print(support_24_60_8)\n",
    "\n",
    "print(\"Confianza {24, 60} --> 8\")\n",
    "print(support_24_60_8/support_24_60)"
   ]
  },
  {
   "cell_type": "markdown",
   "metadata": {},
   "source": [
    "### Ejercicio 4b\n",
    "$\\{2, 3, 4\\} \\rightarrow 5$"
   ]
  },
  {
   "cell_type": "markdown",
   "metadata": {},
   "source": [
    "Realizamos el mismo proceso que hicimos anteriormente"
   ]
  },
  {
   "cell_type": "code",
   "execution_count": 39,
   "metadata": {},
   "outputs": [
    {
     "name": "stdout",
     "output_type": "stream",
     "text": [
      "Canastas en donde aparecen el 2, 3 y 4\n",
      "[1]\n",
      "Canastas en donde aparece el 2, 3, 4 y 5\n",
      "[1]\n",
      "Soporte de {2,3,4}\n",
      "1\n",
      "Soporte de {2,3,4} --> 5\n",
      "1\n",
      "Confianza {2,3, 4} --> 5\n",
      "1.0\n"
     ]
    }
   ],
   "source": [
    "print(\"Canastas en donde aparecen el 2, 3 y 4\")\n",
    "print(inCanasta([2, 3, 4], canastas_ejercicio_2))\n",
    "\n",
    "print(\"Canastas en donde aparece el 2, 3, 4 y 5\")\n",
    "print(inCanasta([2,3,4,5], canastas_ejercicio_2))\n",
    "\n",
    "support_2_3_4 = soporte([2,3,4], canastas_ejercicio_2)\n",
    "support_2_3_4_5 = soporte([2,3,4,5], canastas_ejercicio_2)\n",
    "print(\"Soporte de {2,3,4}\")\n",
    "print(support_2_3_4)\n",
    "\n",
    "print(\"Soporte de {2,3,4} --> 5\")\n",
    "print(support_2_3_4_5)\n",
    "\n",
    "print(\"Confianza {2,3, 4} --> 5\")\n",
    "print(support_2_3_4_5/support_2_3_4)"
   ]
  },
  {
   "cell_type": "code",
   "execution_count": null,
   "metadata": {},
   "outputs": [],
   "source": []
  }
 ],
 "metadata": {
  "kernelspec": {
   "display_name": "Python 3",
   "language": "python",
   "name": "python3"
  },
  "language_info": {
   "codemirror_mode": {
    "name": "ipython",
    "version": 3
   },
   "file_extension": ".py",
   "mimetype": "text/x-python",
   "name": "python",
   "nbconvert_exporter": "python",
   "pygments_lexer": "ipython3",
   "version": "3.7.3"
  }
 },
 "nbformat": 4,
 "nbformat_minor": 4
}
